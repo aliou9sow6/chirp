{
  "nbformat": 4,
  "nbformat_minor": 0,
  "metadata": {
    "colab": {
      "provenance": [],
      "toc_visible": true,
      "mount_file_id": "13e7CkgsvGqaJ2vQNCRCiCrzvp8azJzj6",
      "authorship_tag": "ABX9TyN7AVpCQklAx+XfV1GNte7e",
      "include_colab_link": true
    },
    "kernelspec": {
      "name": "python3",
      "display_name": "Python 3"
    },
    "language_info": {
      "name": "python"
    }
  },
  "cells": [
    {
      "cell_type": "markdown",
      "metadata": {
        "id": "view-in-github",
        "colab_type": "text"
      },
      "source": [
        "<a href=\"https://colab.research.google.com/github/aliou9sow6/chirp/blob/main/MyNotebook.ipynb\" target=\"_parent\"><img src=\"https://colab.research.google.com/assets/colab-badge.svg\" alt=\"Open In Colab\"/></a>"
      ]
    },
    {
      "cell_type": "code",
      "execution_count": 2,
      "metadata": {
        "colab": {
          "base_uri": "https://localhost:8080/"
        },
        "id": "5CdpwBfqBuTQ",
        "outputId": "6ae4f6c3-62ca-4b4b-9487-3422522e5038"
      },
      "outputs": [
        {
          "output_type": "stream",
          "name": "stdout",
          "text": [
            "27  +  5  =  32\n"
          ]
        }
      ],
      "source": [
        "entierUn = 27\n",
        "entierDeux = 5\n",
        "som = entierUn + entierDeux\n",
        "print(entierUn,\" + \",entierDeux,\" = \",som)"
      ]
    }
  ]
}